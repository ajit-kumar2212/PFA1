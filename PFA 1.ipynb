{
 "cells": [
  {
   "cell_type": "code",
   "execution_count": null,
   "id": "a04fba7a",
   "metadata": {},
   "outputs": [],
   "source": [
    "1.c\n",
    "2.b\n",
    "3.a\n",
    "4.d\n",
    "5.a\n",
    "6.c\n",
    "7.c\n",
    "8.a\n",
    "9.b\n",
    "10.a\n",
    "11.c\n",
    "12.b\n",
    "13.b\n",
    "14.a\n",
    "15.d\n",
    "16.c\n",
    "17.a\n",
    "18.B\n",
    "19\n",
    "20.d"
   ]
  }
 ],
 "metadata": {
  "kernelspec": {
   "display_name": "Python 3 (ipykernel)",
   "language": "python",
   "name": "python3"
  },
  "language_info": {
   "codemirror_mode": {
    "name": "ipython",
    "version": 3
   },
   "file_extension": ".py",
   "mimetype": "text/x-python",
   "name": "python",
   "nbconvert_exporter": "python",
   "pygments_lexer": "ipython3",
   "version": "3.9.12"
  }
 },
 "nbformat": 4,
 "nbformat_minor": 5
}
